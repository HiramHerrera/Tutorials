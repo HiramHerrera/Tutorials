{
 "cells": [
  {
   "cell_type": "markdown",
   "metadata": {},
   "source": [
    "# Understanding redrock output\n",
    "\n",
    "This tutorial describes how to combine the zbest fit coefficients with the\n",
    "redrock templates to see how the best fit template compares to the actual data.\n",
    "\n",
    "See https://desi.lbl.gov/trac/wiki/Computing/JupyterAtNERSC to configure Jupyter at NERSC to be able to run this\n",
    "tutorial using jupyter.nersc.gov and the \"19.12\" data in `/global/cfs/cdirs/desi/datachallenge/reference_runs/19.12`.\n",
    "\n",
    "If running locally, see https://desi.lbl.gov/trac/wiki/Pipeline/GettingStarted/Laptop for installing code and download the the 19.12 reference run data set from NERSC at `/global/cfs/cdirs/desi/datachallenge/reference_runs/19.12`.\n",
    "\n",
    "The bottom of this tutorial lists the code versions used while testing this.\n",
    "\n",
    "Stephen Bailey<br/>\n",
    "January 2020"
   ]
  },
  {
   "cell_type": "markdown",
   "metadata": {},
   "source": [
    "## Basic setup"
   ]
  },
  {
   "cell_type": "code",
   "execution_count": null,
   "metadata": {},
   "outputs": [],
   "source": [
    "import os\n",
    "from astropy.table import Table\n",
    "import numpy as np\n",
    "import desispec.io\n",
    "# import redrock.io\n",
    "%pylab inline"
   ]
  },
  {
   "cell_type": "markdown",
   "metadata": {},
   "source": [
    "Add the tutorials directory to the python search path so that we can import desitutorials"
   ]
  },
  {
   "cell_type": "code",
   "execution_count": null,
   "metadata": {},
   "outputs": [],
   "source": [
    "sys.path.append(os.path.abspath(os.getcwd()+'/..'))\n",
    "import desitutorials"
   ]
  },
  {
   "cell_type": "markdown",
   "metadata": {},
   "source": [
    "For convenience, move into the directory that contains the reference run data and set some environment variables so that desispec can find the files.  If you are running locally (*e.g.* on your laptop instead of at jupyter.nersc.gov, replace these with wherever you installed the reference run data."
   ]
  },
  {
   "cell_type": "code",
   "execution_count": null,
   "metadata": {},
   "outputs": [],
   "source": [
    "os.chdir('/global/cfs/cdirs/desi/datachallenge/reference_runs/19.12')\n",
    "os.environ['DESI_SPECTRO_REDUX'] = os.path.join(os.getcwd(), 'spectro', 'redux')\n",
    "os.environ['SPECPROD'] = 'mini'"
   ]
  },
  {
   "cell_type": "markdown",
   "metadata": {},
   "source": [
    "## Read in some spectra and the matching zbest file"
   ]
  },
  {
   "cell_type": "code",
   "execution_count": null,
   "metadata": {},
   "outputs": [],
   "source": [
    "specfile = desispec.io.findfile('spectra', groupname='5299', nside=64)\n",
    "zbestfile = desispec.io.findfile('zbest', groupname='5299', nside=64)\n",
    "\n",
    "spectra = desispec.io.read_spectra(specfile)\n",
    "zbest = Table.read(zbestfile, hdu=1)"
   ]
  },
  {
   "cell_type": "markdown",
   "metadata": {},
   "source": [
    "What did we get?"
   ]
  },
  {
   "cell_type": "code",
   "execution_count": null,
   "metadata": {},
   "outputs": [],
   "source": [
    "zbest['SPECTYPE', 'Z'][0:5]"
   ]
  },
  {
   "cell_type": "code",
   "execution_count": null,
   "metadata": {},
   "outputs": [],
   "source": [
    "for spectype in set(zbest['SPECTYPE']):\n",
    "    ii = (zbest['SPECTYPE'] == spectype)\n",
    "    hist(zbest['Z'][ii], 41, (-0.1,4), label=spectype.strip())\n",
    "legend()"
   ]
  },
  {
   "cell_type": "markdown",
   "metadata": {},
   "source": [
    "Note that redrock does not distinguish between ELGs and LRGs: both are just `spectype=='GALAXY'`."
   ]
  },
  {
   "cell_type": "markdown",
   "metadata": {},
   "source": [
    "## Compare redrock templates to spectra\n",
    "\n",
    "`redrock.io.read_templates` returns a list of templates, then convert those into a dict of template type -> Template object.  Ignore INFO messages about using default values for redshift ranges."
   ]
  },
  {
   "cell_type": "code",
   "execution_count": null,
   "metadata": {},
   "outputs": [],
   "source": [
    "# tx = redrock.io.read_templates()\n",
    "import redrock.templates\n",
    "\n",
    "templates = dict()\n",
    "for filename in redrock.templates.find_templates():\n",
    "    t = redrock.templates.Template(filename)\n",
    "    templates[(t.template_type, t.sub_type)] = t"
   ]
  },
  {
   "cell_type": "markdown",
   "metadata": {},
   "source": [
    "Pick a target and use its zbest coefficients to construct the redrock template fit for that\n",
    "object."
   ]
  },
  {
   "cell_type": "code",
   "execution_count": null,
   "metadata": {},
   "outputs": [],
   "source": [
    "i = 1\n",
    "z = zbest['Z'][i]\n",
    "targetid = zbest['TARGETID'][i]\n",
    "spectype = zbest['SPECTYPE'][i].strip()\n",
    "subtype = zbest['SUBTYPE'][i].strip()\n",
    "fulltype = (spectype, subtype)\n",
    "ncoeff = templates[fulltype].flux.shape[0]\n",
    "coeff = zbest['COEFF'][i][0:ncoeff]"
   ]
  },
  {
   "cell_type": "code",
   "execution_count": null,
   "metadata": {},
   "outputs": [],
   "source": [
    "tflux = templates[fulltype].flux.T.dot(coeff)\n",
    "twave = templates[fulltype].wave * (1+z)"
   ]
  },
  {
   "cell_type": "code",
   "execution_count": null,
   "metadata": {},
   "outputs": [],
   "source": [
    "ispec = np.where(spectra.fibermap['TARGETID'] == targetid)[0][0]\n",
    "\n",
    "figure(figsize=(8,5))\n",
    "subplot(211)\n",
    "maxflux = 0.0\n",
    "for band in spectra.bands:\n",
    "    plot(spectra.wave[band], spectra.flux[band][ispec], 'k-', alpha=0.5)\n",
    "    maxflux = max(maxflux, np.max(spectra.flux[band][ispec]))\n",
    "\n",
    "plot(twave, tflux, 'r-')\n",
    "xlim(3500, 10000)\n",
    "ylim(-1, 0.9*maxflux)\n",
    "\n",
    "#- zoom in on [OII]\n",
    "subplot(212)\n",
    "for band in spectra.bands:\n",
    "    plot(spectra.wave[band], spectra.flux[band][ispec], 'k-', alpha=0.5)\n",
    "\n",
    "plot(twave, tflux, 'r-')\n",
    "xlim(3727*(1+z)-100, 3727*(1+z)+100)\n",
    "ylim(-1,2)"
   ]
  },
  {
   "cell_type": "markdown",
   "metadata": {},
   "source": [
    "That wasn't quite correct because the redrock templates are high resolution\n",
    "before any instrumental resolution is applied.  Let's update that to include\n",
    "the spectral resolution."
   ]
  },
  {
   "cell_type": "code",
   "execution_count": null,
   "metadata": {},
   "outputs": [],
   "source": [
    "from desispec.interpolation import resample_flux\n",
    "from desispec.resolution import Resolution\n",
    "R = Resolution(spectra.resolution_data['r'][i])\n",
    "txflux = R.dot(resample_flux(spectra.wave['r'], twave, tflux))"
   ]
  },
  {
   "cell_type": "code",
   "execution_count": null,
   "metadata": {},
   "outputs": [],
   "source": [
    "plot(spectra.wave['r'], spectra.flux['r'][ispec])\n",
    "plot(spectra.wave['r'], txflux)\n",
    "# ylim(-1,2)\n",
    "xlim(3727*(1+z)-100, 3727*(1+z)+100)"
   ]
  },
  {
   "cell_type": "markdown",
   "metadata": {},
   "source": [
    "## Future work\n",
    "\n",
    "**TODO**: document redrock rr*.h5 files, e.g. the chi2 vs. redshift and how to get the second, third, etc. best fits"
   ]
  },
  {
   "cell_type": "markdown",
   "metadata": {},
   "source": [
    "## Code versions"
   ]
  },
  {
   "cell_type": "code",
   "execution_count": null,
   "metadata": {},
   "outputs": [],
   "source": [
    "print('Code versions used for this tutorial:')\n",
    "desitutorials.print_code_versions()"
   ]
  },
  {
   "cell_type": "code",
   "execution_count": null,
   "metadata": {},
   "outputs": [],
   "source": []
  }
 ],
 "metadata": {
  "anaconda-cloud": {},
  "kernelspec": {
   "display_name": "DESI 20.8",
   "language": "python",
   "name": "desi-20.8"
  },
  "language_info": {
   "codemirror_mode": {
    "name": "ipython",
    "version": 3
   },
   "file_extension": ".py",
   "mimetype": "text/x-python",
   "name": "python",
   "nbconvert_exporter": "python",
   "pygments_lexer": "ipython3",
   "version": "3.8.3"
  }
 },
 "nbformat": 4,
 "nbformat_minor": 4
}
