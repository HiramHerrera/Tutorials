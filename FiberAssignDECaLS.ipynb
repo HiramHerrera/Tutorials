{
 "cells": [
  {
   "cell_type": "markdown",
   "metadata": {},
   "source": [
    "# fiberassign on DECaLS"
   ]
  },
  {
   "cell_type": "markdown",
   "metadata": {},
   "source": [
    "## Warning\n",
    "\n",
    "As of 2020-02-05, this notebook is known to be broken.  See [#37](https://github.com/desihub/tutorials/issues/37) for details."
   ]
  },
  {
   "cell_type": "code",
   "execution_count": null,
   "metadata": {},
   "outputs": [],
   "source": [
    "import os, sys, subprocess, fitsio\n",
    "from collections import Counter\n",
    "\n",
    "import numpy as np\n",
    "from astropy.table import Table\n",
    "from astropy.io import fits\n",
    "\n",
    "import desimodel.io\n",
    "import desimodel.focalplane\n",
    "import desimodel.footprint\n",
    "from desitarget.targetmask import desi_mask, obsconditions\n",
    "import matplotlib.pyplot as plt\n",
    "%matplotlib inline"
   ]
  },
  {
   "cell_type": "markdown",
   "metadata": {},
   "source": [
    "## Learning goals\n",
    "\n",
    "In this notebook you will learn how to:\n",
    "\n",
    "* Use observational data from DR7 to prepare it for fiberassign.\n",
    "* Run fiberassign using the files generated above.\n",
    "* Explore the outputs of fiberassign.\n",
    "\n",
    "This notebook has been tested against `desi_environment` `master`, January 2020.\n",
    "\n",
    "This notebook reuses code in the [main fiberassign notebook](https://github.com/desihub/tutorials/blob/master/FiberAssign.ipynb)."
   ]
  },
  {
   "cell_type": "code",
   "execution_count": null,
   "metadata": {},
   "outputs": [],
   "source": [
    "workdir = os.path.join(os.environ['SCRATCH'], 'desi', 'test', 'fiberassign_obs')\n",
    "os.makedirs(workdir, exist_ok=True)\n",
    "os.chdir(workdir)\n",
    "outdir = os.path.join(workdir, 'output')\n",
    "os.makedirs(outdir, exist_ok=True)"
   ]
  },
  {
   "cell_type": "markdown",
   "metadata": {},
   "source": [
    "Paths and filenames with the observational data"
   ]
  },
  {
   "cell_type": "code",
   "execution_count": null,
   "metadata": {},
   "outputs": [],
   "source": [
    "paths = {\"targets\": \"/global/cfs/cdirs/desi/target/catalogs/dr7.1/PR372/\", \n",
    "         \"skies\": \"/global/cfs/cdirs/desi/target/catalogs/dr7.1/0.22.0/\", \n",
    "         \"gfas\": \"/global/cfs/cdirs/desi/target/catalogs/dr7.1/0.22.0/\",\n",
    "}\n",
    "\n",
    "names = {\"targets\": \"dr7.1-PR372.fits\", \"skies\":\"dr7.1-0.22.0.fits\", \"gfas\": \"dr7.1.fits\"}"
   ]
  },
  {
   "cell_type": "markdown",
   "metadata": {},
   "source": [
    "Some more files needed to run fiberassign"
   ]
  },
  {
   "cell_type": "code",
   "execution_count": null,
   "metadata": {},
   "outputs": [],
   "source": [
    "mtlfile = os.path.join(workdir, 'mtl.fits')\n",
    "truthfile = os.path.join(workdir, 'truth.fits')\n",
    "starfile = os.path.join(workdir, 'std.fits')\n",
    "targetcutfile = os.path.join(workdir, 'targets.fits') \n",
    "skycutfile = os.path.join(workdir, 'sky.fits') \n",
    "targetfile = os.path.join(paths[\"targets\"], \"targets-{}\".format(names[\"targets\"]))\n",
    "skyfile = os.path.join(paths[\"skies\"], \"skies-{}\".format(names[\"skies\"]))\n",
    "gfafile = os.path.join(paths[\"gfas\"], \"gfas-{}\".format(names[\"gfas\"]))\n",
    "tilefile = os.path.join(workdir, \"tiles.fits\")"
   ]
  },
  {
   "cell_type": "code",
   "execution_count": null,
   "metadata": {},
   "outputs": [],
   "source": [
    "# tile selection\n",
    "program = \"dark\"\n",
    "\n",
    "tiles = desimodel.io.load_tiles()\n",
    "bright = tiles['PROGRAM']=='BRIGHT'\n",
    "    \n",
    "small = ((tiles['RA']>12) & (tiles['RA']<20) & (tiles['DEC']<1) & (tiles['DEC']>-1))\n",
    "\n",
    "if program==\"bright\":\n",
    "    Table(tiles[(bright)&(small)]).write(tilefile, overwrite=True)\n",
    "else:\n",
    "    Table(tiles[(~bright) & (small)]).write(tilefile, overwrite=True)\n",
    "\n",
    "print(\"Wrote tiles to {}\".format(tilefile))"
   ]
  },
  {
   "cell_type": "code",
   "execution_count": null,
   "metadata": {},
   "outputs": [],
   "source": [
    "# target selection results\n",
    "print('Started reading {}'.format(targetfile))\n",
    "targetdata = fitsio.read(targetfile, 'TARGETS')\n",
    "ii = (targetdata['RA']>10) &  (targetdata['RA']<22) & (targetdata['DEC']<3) & (targetdata['DEC']>-3)\n",
    "targetdata = targetdata[ii]\n",
    "print('Done reading target data to compute mtl + star')"
   ]
  },
  {
   "cell_type": "code",
   "execution_count": null,
   "metadata": {},
   "outputs": [],
   "source": [
    "plt.scatter(targetdata['RA'], targetdata['DEC'],s=0.1, alpha=0.1)\n",
    "plt.xlabel('RA [deg]')\n",
    "plt.ylabel('DEC [deg]')"
   ]
  },
  {
   "cell_type": "code",
   "execution_count": null,
   "metadata": {},
   "outputs": [],
   "source": [
    "# write down the targets to disk\n",
    "\n",
    "if (not os.path.exists(targetcutfile)):\n",
    "    Table(targetdata).write(targetcutfile, overwrite=True)\n",
    "    print('Done writing target cut data')"
   ]
  },
  {
   "cell_type": "code",
   "execution_count": null,
   "metadata": {},
   "outputs": [],
   "source": [
    "# compute sky file\n",
    "if (not os.path.exists(skycutfile)):\n",
    "    skydata = fitsio.read(skyfile)\n",
    "    ii = (skydata['RA']>10) &  (skydata['RA']<22) & (skydata['DEC']<3) & (skydata['DEC']>-3)\n",
    "    jj = (skydata['DESI_TARGET'] & desi_mask.SKY)!=0\n",
    "    skydata = skydata[ii&jj]\n",
    "    Table(skydata).write(skycutfile, overwrite=True)\n",
    "    print('Done writing sky cut data')\n",
    "skydata = Table.read(skycutfile)"
   ]
  },
  {
   "cell_type": "code",
   "execution_count": null,
   "metadata": {},
   "outputs": [],
   "source": [
    "plt.scatter(skydata['RA'], skydata['DEC'],s=0.1, alpha=0.1)\n",
    "plt.xlabel('RA [deg]')\n",
    "plt.ylabel('DEC [deg]')"
   ]
  },
  {
   "cell_type": "code",
   "execution_count": null,
   "metadata": {},
   "outputs": [],
   "source": [
    "#standards\n",
    "if not os.path.exists(starfile):\n",
    "    std_mask = 0\n",
    "    for name in ['STD', 'STD_FSTAR', 'STD_WD',\n",
    "             'STD_FAINT', 'STD_FAINT_BEST',\n",
    "             'STD_BRIGHT', 'STD_BRIGHT_BEST']:\n",
    "        if name in desi_mask.names():\n",
    "            std_mask |= desi_mask[name]\n",
    "\n",
    "    starstd = (targetdata['DESI_TARGET'] & std_mask) != 0\n",
    "    stardata = targetdata[starstd]\n",
    "\n",
    "    if program==\"bright\":\n",
    "        obscond = np.int_(np.repeat(obsconditions['BRIGHT'], len(stardata)))\n",
    "    else:\n",
    "        obscond = np.int_(np.repeat(obsconditions['DARK']|obsconditions['GRAY'], len(stardata))) \n",
    "\n",
    "    stardata = np.lib.recfunctions.append_fields(stardata, 'OBSCONDITIONS', obscond)  \n",
    "        \n",
    "    ii = (stardata['RA']>10) &  (stardata['RA']<22) & (stardata['DEC']<3) & (stardata['DEC']>-3)\n",
    "    stardata = stardata[ii]\n",
    "        \n",
    "    fitsio.write(starfile, stardata, extname='STD')\n",
    "    print('{} standards'.format(np.count_nonzero(stardata)))\n",
    "    print('Finished with standards')\n",
    "stardata = Table.read(starfile)"
   ]
  },
  {
   "cell_type": "code",
   "execution_count": null,
   "metadata": {},
   "outputs": [],
   "source": [
    "plt.scatter(stardata['RA'], stardata['DEC'],s=0.5, alpha=0.6)\n",
    "plt.xlabel('RA [deg]')\n",
    "plt.ylabel('DEC [deg]')"
   ]
  },
  {
   "cell_type": "code",
   "execution_count": null,
   "metadata": {},
   "outputs": [],
   "source": [
    "#compute MTL\n",
    "if not os.path.exists(mtlfile):\n",
    "    print('computing mtl')\n",
    "    import desitarget.mtl\n",
    "    mtl = desitarget.mtl.make_mtl(targetdata, 'DARK|GRAY')\n",
    "\n",
    "    # only include BGS and MWS\n",
    "    isbgsmws = ((mtl['BGS_TARGET']!=0) | (mtl['MWS_TARGET']!=0))\n",
    "    if program==\"bright\":\n",
    "        mtl = mtl[isbgsmws]\n",
    "    else:\n",
    "        mtl = mtl[~isbgsmws]\n",
    "\n",
    "\n",
    "    mtl.meta['EXTNAME'] = 'MTL'\n",
    "    mtl.write(mtlfile)\n",
    "    \n",
    "    #print some stats\n",
    "    print('MWS_TARGETS: {}'.format(np.count_nonzero(mtl['MWS_TARGET']!=0)))\n",
    "    print('BGS_TARGETS: {}'.format(np.count_nonzero(mtl['BGS_TARGET']!=0)))\n",
    "    print('DESI_TARGETS: {}'.format(np.count_nonzero(mtl['DESI_TARGET']!=0)))\n",
    "    print('finished computing mtl')\n",
    "mtl = Table.read(mtlfile)"
   ]
  },
  {
   "cell_type": "code",
   "execution_count": null,
   "metadata": {},
   "outputs": [],
   "source": [
    "plt.scatter(mtl['RA'], mtl['DEC'], s=0.1, alpha=0.1)\n",
    "plt.xlabel('RA [deg]')\n",
    "plt.ylabel('DEC [deg]')"
   ]
  },
  {
   "cell_type": "code",
   "execution_count": null,
   "metadata": {},
   "outputs": [],
   "source": [
    "cmd = 'fiberassign --overwrite --mtl mtl.fits --stdstar std.fits --sky sky.fits'\n",
    "cmd += ' --footprint ./tiles.fits'\n",
    "cmd += ' --outdir ./output/'\n",
    "cmd = cmd.format(outdir=outdir)\n",
    "print(cmd)"
   ]
  },
  {
   "cell_type": "code",
   "execution_count": null,
   "metadata": {},
   "outputs": [],
   "source": [
    "print('RUNNING: '+cmd)\n",
    "try:\n",
    "    results = subprocess.check_output(cmd.split(), stderr=subprocess.STDOUT)\n",
    "    print(results.decode())\n",
    "    print('--- SUCCESS ---')\n",
    "except subprocess.CalledProcessError as ex:\n",
    "    print('--- ERROR {} ---'.format(ex.returncode))\n",
    "    print(ex.output.decode())"
   ]
  },
  {
   "cell_type": "code",
   "execution_count": null,
   "metadata": {},
   "outputs": [],
   "source": [
    "tiles = Table.read(\"tiles.fits\")\n",
    "targets = Table.read(\"mtl.fits\")"
   ]
  },
  {
   "cell_type": "code",
   "execution_count": null,
   "metadata": {},
   "outputs": [],
   "source": [
    "# Gather all outputs\n",
    "assignments = list()\n",
    "for tileid in tiles['TILEID']:\n",
    "    tilefile = '{}/tile-{:06d}.fits'.format(outdir, tileid)\n",
    "    assignments.append(Table.read(tilefile, hdu=1))\n",
    "    \n",
    "assigned_targetids = np.concatenate([tmp['TARGETID'] for tmp in assignments])\n",
    "isAssigned = np.in1d(targets['TARGETID'], assigned_targetids)\n",
    "\n",
    "plt.figure(figsize=(12,4))\n",
    "plt.plot(targets['RA'][isAssigned], targets['DEC'][isAssigned], 'k,')\n",
    "plt.title('Targets assigned to fibers')\n",
    "plt.xlabel('RA [deg]')\n",
    "plt.ylabel('DEC [deg]')"
   ]
  },
  {
   "cell_type": "code",
   "execution_count": null,
   "metadata": {},
   "outputs": [],
   "source": [
    "plt.figure(figsize=(12,4))\n",
    "plt.plot(targets['RA'][~isAssigned], targets['DEC'][~isAssigned], 'k,')\n",
    "plt.title('Targets left unassigned to fibers')\n",
    "plt.xlabel('RA [deg]')\n",
    "plt.ylabel('DEC [deg]')"
   ]
  }
 ],
 "metadata": {
  "kernelspec": {
   "display_name": "DESI master",
   "language": "python",
   "name": "desi-master"
  },
  "language_info": {
   "codemirror_mode": {
    "name": "ipython",
    "version": 3
   },
   "file_extension": ".py",
   "mimetype": "text/x-python",
   "name": "python",
   "nbconvert_exporter": "python",
   "pygments_lexer": "ipython3",
   "version": "3.6.6"
  }
 },
 "nbformat": 4,
 "nbformat_minor": 4
}
